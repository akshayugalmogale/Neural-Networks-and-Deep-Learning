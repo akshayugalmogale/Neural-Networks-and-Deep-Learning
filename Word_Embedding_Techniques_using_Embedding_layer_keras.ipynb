{
  "nbformat": 4,
  "nbformat_minor": 0,
  "metadata": {
    "colab": {
      "provenance": [],
      "authorship_tag": "ABX9TyO59hyeECpJKBSVs/Jav/4U",
      "include_colab_link": true
    },
    "kernelspec": {
      "name": "python3",
      "display_name": "Python 3"
    },
    "language_info": {
      "name": "python"
    }
  },
  "cells": [
    {
      "cell_type": "markdown",
      "metadata": {
        "id": "view-in-github",
        "colab_type": "text"
      },
      "source": [
        "<a href=\"https://colab.research.google.com/github/akshayugalmogale/Neural-Networks-and-Deep-Learning-Practice/blob/main/Word_Embedding_Techniques_using_Embedding_layer_keras.ipynb\" target=\"_parent\"><img src=\"https://colab.research.google.com/assets/colab-badge.svg\" alt=\"Open In Colab\"/></a>"
      ]
    },
    {
      "cell_type": "code",
      "source": [
        "!pip install tensorflow"
      ],
      "metadata": {
        "colab": {
          "base_uri": "https://localhost:8080/"
        },
        "id": "jdXj6A5H30WK",
        "outputId": "e3012cdc-6205-4288-b1d2-3c97d24b6b8b"
      },
      "execution_count": 1,
      "outputs": [
        {
          "output_type": "stream",
          "name": "stdout",
          "text": [
            "Looking in indexes: https://pypi.org/simple, https://us-python.pkg.dev/colab-wheels/public/simple/\n",
            "Requirement already satisfied: tensorflow in /usr/local/lib/python3.7/dist-packages (2.9.2)\n",
            "Requirement already satisfied: six>=1.12.0 in /usr/local/lib/python3.7/dist-packages (from tensorflow) (1.15.0)\n",
            "Requirement already satisfied: absl-py>=1.0.0 in /usr/local/lib/python3.7/dist-packages (from tensorflow) (1.3.0)\n",
            "Requirement already satisfied: keras<2.10.0,>=2.9.0rc0 in /usr/local/lib/python3.7/dist-packages (from tensorflow) (2.9.0)\n",
            "Requirement already satisfied: protobuf<3.20,>=3.9.2 in /usr/local/lib/python3.7/dist-packages (from tensorflow) (3.19.6)\n",
            "Requirement already satisfied: tensorflow-io-gcs-filesystem>=0.23.1 in /usr/local/lib/python3.7/dist-packages (from tensorflow) (0.27.0)\n",
            "Requirement already satisfied: keras-preprocessing>=1.1.1 in /usr/local/lib/python3.7/dist-packages (from tensorflow) (1.1.2)\n",
            "Requirement already satisfied: opt-einsum>=2.3.2 in /usr/local/lib/python3.7/dist-packages (from tensorflow) (3.3.0)\n",
            "Requirement already satisfied: astunparse>=1.6.0 in /usr/local/lib/python3.7/dist-packages (from tensorflow) (1.6.3)\n",
            "Requirement already satisfied: flatbuffers<2,>=1.12 in /usr/local/lib/python3.7/dist-packages (from tensorflow) (1.12)\n",
            "Requirement already satisfied: libclang>=13.0.0 in /usr/local/lib/python3.7/dist-packages (from tensorflow) (14.0.6)\n",
            "Requirement already satisfied: numpy>=1.20 in /usr/local/lib/python3.7/dist-packages (from tensorflow) (1.21.6)\n",
            "Requirement already satisfied: tensorboard<2.10,>=2.9 in /usr/local/lib/python3.7/dist-packages (from tensorflow) (2.9.1)\n",
            "Requirement already satisfied: typing-extensions>=3.6.6 in /usr/local/lib/python3.7/dist-packages (from tensorflow) (4.1.1)\n",
            "Requirement already satisfied: h5py>=2.9.0 in /usr/local/lib/python3.7/dist-packages (from tensorflow) (3.1.0)\n",
            "Requirement already satisfied: tensorflow-estimator<2.10.0,>=2.9.0rc0 in /usr/local/lib/python3.7/dist-packages (from tensorflow) (2.9.0)\n",
            "Requirement already satisfied: grpcio<2.0,>=1.24.3 in /usr/local/lib/python3.7/dist-packages (from tensorflow) (1.50.0)\n",
            "Requirement already satisfied: packaging in /usr/local/lib/python3.7/dist-packages (from tensorflow) (21.3)\n",
            "Requirement already satisfied: setuptools in /usr/local/lib/python3.7/dist-packages (from tensorflow) (57.4.0)\n",
            "Requirement already satisfied: gast<=0.4.0,>=0.2.1 in /usr/local/lib/python3.7/dist-packages (from tensorflow) (0.4.0)\n",
            "Requirement already satisfied: google-pasta>=0.1.1 in /usr/local/lib/python3.7/dist-packages (from tensorflow) (0.2.0)\n",
            "Requirement already satisfied: termcolor>=1.1.0 in /usr/local/lib/python3.7/dist-packages (from tensorflow) (2.1.0)\n",
            "Requirement already satisfied: wrapt>=1.11.0 in /usr/local/lib/python3.7/dist-packages (from tensorflow) (1.14.1)\n",
            "Requirement already satisfied: wheel<1.0,>=0.23.0 in /usr/local/lib/python3.7/dist-packages (from astunparse>=1.6.0->tensorflow) (0.38.4)\n",
            "Requirement already satisfied: cached-property in /usr/local/lib/python3.7/dist-packages (from h5py>=2.9.0->tensorflow) (1.5.2)\n",
            "Requirement already satisfied: tensorboard-plugin-wit>=1.6.0 in /usr/local/lib/python3.7/dist-packages (from tensorboard<2.10,>=2.9->tensorflow) (1.8.1)\n",
            "Requirement already satisfied: google-auth-oauthlib<0.5,>=0.4.1 in /usr/local/lib/python3.7/dist-packages (from tensorboard<2.10,>=2.9->tensorflow) (0.4.6)\n",
            "Requirement already satisfied: werkzeug>=1.0.1 in /usr/local/lib/python3.7/dist-packages (from tensorboard<2.10,>=2.9->tensorflow) (1.0.1)\n",
            "Requirement already satisfied: markdown>=2.6.8 in /usr/local/lib/python3.7/dist-packages (from tensorboard<2.10,>=2.9->tensorflow) (3.4.1)\n",
            "Requirement already satisfied: google-auth<3,>=1.6.3 in /usr/local/lib/python3.7/dist-packages (from tensorboard<2.10,>=2.9->tensorflow) (2.14.1)\n",
            "Requirement already satisfied: requests<3,>=2.21.0 in /usr/local/lib/python3.7/dist-packages (from tensorboard<2.10,>=2.9->tensorflow) (2.23.0)\n",
            "Requirement already satisfied: tensorboard-data-server<0.7.0,>=0.6.0 in /usr/local/lib/python3.7/dist-packages (from tensorboard<2.10,>=2.9->tensorflow) (0.6.1)\n",
            "Requirement already satisfied: pyasn1-modules>=0.2.1 in /usr/local/lib/python3.7/dist-packages (from google-auth<3,>=1.6.3->tensorboard<2.10,>=2.9->tensorflow) (0.2.8)\n",
            "Requirement already satisfied: rsa<5,>=3.1.4 in /usr/local/lib/python3.7/dist-packages (from google-auth<3,>=1.6.3->tensorboard<2.10,>=2.9->tensorflow) (4.9)\n",
            "Requirement already satisfied: cachetools<6.0,>=2.0.0 in /usr/local/lib/python3.7/dist-packages (from google-auth<3,>=1.6.3->tensorboard<2.10,>=2.9->tensorflow) (5.2.0)\n",
            "Requirement already satisfied: requests-oauthlib>=0.7.0 in /usr/local/lib/python3.7/dist-packages (from google-auth-oauthlib<0.5,>=0.4.1->tensorboard<2.10,>=2.9->tensorflow) (1.3.1)\n",
            "Requirement already satisfied: importlib-metadata>=4.4 in /usr/local/lib/python3.7/dist-packages (from markdown>=2.6.8->tensorboard<2.10,>=2.9->tensorflow) (4.13.0)\n",
            "Requirement already satisfied: zipp>=0.5 in /usr/local/lib/python3.7/dist-packages (from importlib-metadata>=4.4->markdown>=2.6.8->tensorboard<2.10,>=2.9->tensorflow) (3.10.0)\n",
            "Requirement already satisfied: pyasn1<0.5.0,>=0.4.6 in /usr/local/lib/python3.7/dist-packages (from pyasn1-modules>=0.2.1->google-auth<3,>=1.6.3->tensorboard<2.10,>=2.9->tensorflow) (0.4.8)\n",
            "Requirement already satisfied: urllib3!=1.25.0,!=1.25.1,<1.26,>=1.21.1 in /usr/local/lib/python3.7/dist-packages (from requests<3,>=2.21.0->tensorboard<2.10,>=2.9->tensorflow) (1.24.3)\n",
            "Requirement already satisfied: idna<3,>=2.5 in /usr/local/lib/python3.7/dist-packages (from requests<3,>=2.21.0->tensorboard<2.10,>=2.9->tensorflow) (2.10)\n",
            "Requirement already satisfied: chardet<4,>=3.0.2 in /usr/local/lib/python3.7/dist-packages (from requests<3,>=2.21.0->tensorboard<2.10,>=2.9->tensorflow) (3.0.4)\n",
            "Requirement already satisfied: certifi>=2017.4.17 in /usr/local/lib/python3.7/dist-packages (from requests<3,>=2.21.0->tensorboard<2.10,>=2.9->tensorflow) (2022.9.24)\n",
            "Requirement already satisfied: oauthlib>=3.0.0 in /usr/local/lib/python3.7/dist-packages (from requests-oauthlib>=0.7.0->google-auth-oauthlib<0.5,>=0.4.1->tensorboard<2.10,>=2.9->tensorflow) (3.2.2)\n",
            "Requirement already satisfied: pyparsing!=3.0.5,>=2.0.2 in /usr/local/lib/python3.7/dist-packages (from packaging->tensorflow) (3.0.9)\n"
          ]
        }
      ]
    },
    {
      "cell_type": "code",
      "execution_count": 2,
      "metadata": {
        "id": "5ksnIvRj3A7f"
      },
      "outputs": [],
      "source": [
        "from tensorflow.keras.preprocessing.text import one_hot"
      ]
    },
    {
      "cell_type": "code",
      "source": [
        "sent=['the glass of milk',\n",
        "      'the glass of juice',\n",
        "      'the cup of tea',\n",
        "      'I am a good boy',\n",
        "      'I am a good developer',\n",
        "      'understand the meaning of words',\n",
        "      'your videos are good']"
      ],
      "metadata": {
        "id": "wfGVffOL3eeU"
      },
      "execution_count": 3,
      "outputs": []
    },
    {
      "cell_type": "code",
      "source": [
        "sent"
      ],
      "metadata": {
        "colab": {
          "base_uri": "https://localhost:8080/"
        },
        "id": "1N6TzkNO4jZk",
        "outputId": "dd707a48-5fa2-4e08-f7e8-529b91458390"
      },
      "execution_count": 4,
      "outputs": [
        {
          "output_type": "execute_result",
          "data": {
            "text/plain": [
              "['the glass of milk',\n",
              " 'the glass of juice',\n",
              " 'the cup of tea',\n",
              " 'I am a good boy',\n",
              " 'I am a good developer',\n",
              " 'understand the meaning of words',\n",
              " 'your videos are good']"
            ]
          },
          "metadata": {},
          "execution_count": 4
        }
      ]
    },
    {
      "cell_type": "code",
      "source": [
        "voc_size=1000"
      ],
      "metadata": {
        "id": "4swxXF-54kVD"
      },
      "execution_count": 5,
      "outputs": []
    },
    {
      "cell_type": "markdown",
      "source": [
        "One Hot Representation"
      ],
      "metadata": {
        "id": "jgzCH8sK5M19"
      }
    },
    {
      "cell_type": "code",
      "source": [
        "onehot_reps=[one_hot(words,voc_size)for words in sent]\n",
        "print(onehot_reps)"
      ],
      "metadata": {
        "colab": {
          "base_uri": "https://localhost:8080/"
        },
        "id": "2_ok3mI55MVP",
        "outputId": "2d53e110-1b44-483f-8d60-1805daedec47"
      },
      "execution_count": 6,
      "outputs": [
        {
          "output_type": "stream",
          "name": "stdout",
          "text": [
            "[[271, 379, 345, 967], [271, 379, 345, 39], [271, 692, 345, 718], [883, 338, 496, 99, 964], [883, 338, 496, 99, 62], [301, 271, 778, 345, 317], [22, 337, 959, 99]]\n"
          ]
        }
      ]
    },
    {
      "cell_type": "code",
      "source": [],
      "metadata": {
        "id": "skUGb59p6DjS"
      },
      "execution_count": 6,
      "outputs": []
    },
    {
      "cell_type": "markdown",
      "source": [
        "Word Embedding Represntation"
      ],
      "metadata": {
        "id": "fqt5Zgid6FWN"
      }
    },
    {
      "cell_type": "code",
      "source": [
        "from tensorflow.keras.layers import Embedding\n",
        "from tensorflow.keras.preprocessing.sequence import pad_sequences\n",
        "from tensorflow import keras\n",
        "from tensorflow.keras import layers\n",
        "import numpy as np"
      ],
      "metadata": {
        "id": "oF3SQ0hO6Dgm"
      },
      "execution_count": 9,
      "outputs": []
    },
    {
      "cell_type": "code",
      "source": [
        "sent_length=8"
      ],
      "metadata": {
        "id": "cHRgbEoc6RPC"
      },
      "execution_count": 10,
      "outputs": []
    },
    {
      "cell_type": "code",
      "source": [
        "embedded_doc=pad_sequences(onehot_reps,padding='pre',maxlen=sent_length)\n",
        "print(embedded_doc)"
      ],
      "metadata": {
        "colab": {
          "base_uri": "https://localhost:8080/"
        },
        "id": "p5gXW8hZ6RMZ",
        "outputId": "e6a09891-2007-4480-c688-0f9785d3b6a3"
      },
      "execution_count": 24,
      "outputs": [
        {
          "output_type": "stream",
          "name": "stdout",
          "text": [
            "[[  0   0   0   0 271 379 345 967]\n",
            " [  0   0   0   0 271 379 345  39]\n",
            " [  0   0   0   0 271 692 345 718]\n",
            " [  0   0   0 883 338 496  99 964]\n",
            " [  0   0   0 883 338 496  99  62]\n",
            " [  0   0   0 301 271 778 345 317]\n",
            " [  0   0   0   0  22 337 959  99]]\n"
          ]
        }
      ]
    },
    {
      "cell_type": "code",
      "source": [
        "dim=15"
      ],
      "metadata": {
        "id": "i915o7fm6RJ9"
      },
      "execution_count": 13,
      "outputs": []
    },
    {
      "cell_type": "code",
      "source": [
        "from tensorflow.keras.models import Sequential\n",
        "model=Sequential()\n",
        "model.add(Embedding(voc_size,dim,input_length=sent_length))\n",
        "model.compile('adam','mse')"
      ],
      "metadata": {
        "id": "0M5Qw0jj6RHV"
      },
      "execution_count": 27,
      "outputs": []
    },
    {
      "cell_type": "code",
      "source": [
        "model.summary()"
      ],
      "metadata": {
        "colab": {
          "base_uri": "https://localhost:8080/"
        },
        "id": "2ihekayO6RES",
        "outputId": "c2c684df-eaf5-40f1-9b8f-7985ef5ca409"
      },
      "execution_count": 28,
      "outputs": [
        {
          "output_type": "stream",
          "name": "stdout",
          "text": [
            "Model: \"sequential_3\"\n",
            "_________________________________________________________________\n",
            " Layer (type)                Output Shape              Param #   \n",
            "=================================================================\n",
            " embedding_1 (Embedding)     (None, 8, 15)             15000     \n",
            "                                                                 \n",
            "=================================================================\n",
            "Total params: 15,000\n",
            "Trainable params: 15,000\n",
            "Non-trainable params: 0\n",
            "_________________________________________________________________\n"
          ]
        }
      ]
    },
    {
      "cell_type": "code",
      "source": [
        "print(model.predict(embedded_doc))"
      ],
      "metadata": {
        "colab": {
          "base_uri": "https://localhost:8080/"
        },
        "id": "_q3puk_j6RBS",
        "outputId": "655b6cf7-aab7-4fe5-bd92-f5bad288974d"
      },
      "execution_count": 30,
      "outputs": [
        {
          "output_type": "stream",
          "name": "stdout",
          "text": [
            "1/1 [==============================] - 0s 278ms/step\n",
            "[[[-3.33857089e-02 -3.58735099e-02  6.23115152e-03  2.69858502e-02\n",
            "    3.11180614e-02  3.36668529e-02  4.75708395e-03 -1.42746679e-02\n",
            "   -3.47588435e-02  2.92313136e-02  1.71763636e-02  2.18415000e-02\n",
            "    1.09068751e-02 -3.18668112e-02  3.61348502e-02]\n",
            "  [-3.33857089e-02 -3.58735099e-02  6.23115152e-03  2.69858502e-02\n",
            "    3.11180614e-02  3.36668529e-02  4.75708395e-03 -1.42746679e-02\n",
            "   -3.47588435e-02  2.92313136e-02  1.71763636e-02  2.18415000e-02\n",
            "    1.09068751e-02 -3.18668112e-02  3.61348502e-02]\n",
            "  [-3.33857089e-02 -3.58735099e-02  6.23115152e-03  2.69858502e-02\n",
            "    3.11180614e-02  3.36668529e-02  4.75708395e-03 -1.42746679e-02\n",
            "   -3.47588435e-02  2.92313136e-02  1.71763636e-02  2.18415000e-02\n",
            "    1.09068751e-02 -3.18668112e-02  3.61348502e-02]\n",
            "  [-3.33857089e-02 -3.58735099e-02  6.23115152e-03  2.69858502e-02\n",
            "    3.11180614e-02  3.36668529e-02  4.75708395e-03 -1.42746679e-02\n",
            "   -3.47588435e-02  2.92313136e-02  1.71763636e-02  2.18415000e-02\n",
            "    1.09068751e-02 -3.18668112e-02  3.61348502e-02]\n",
            "  [-1.10954642e-02 -2.00975426e-02 -1.03828907e-02  1.18883848e-02\n",
            "   -1.14796758e-02 -4.57321182e-02  1.39736198e-02 -4.50742245e-03\n",
            "    4.32387702e-02 -1.51680782e-03 -3.55669372e-02 -4.84297648e-02\n",
            "    1.57992728e-02 -2.22099908e-02  3.58140469e-03]\n",
            "  [ 1.84842460e-02 -1.09998137e-03  2.45121382e-02  2.30813026e-03\n",
            "   -3.43834050e-02 -3.26278210e-02  2.55381502e-02 -3.31650153e-02\n",
            "   -2.35870369e-02 -1.02295503e-02  3.38389613e-02 -2.34824661e-02\n",
            "   -4.27901037e-02 -4.26184200e-02 -3.98396142e-02]\n",
            "  [ 2.34520175e-02 -4.04078588e-02 -9.48251411e-03  1.09676346e-02\n",
            "    2.66791098e-02 -1.75489783e-02 -4.40527126e-03 -1.49327628e-02\n",
            "    4.96187694e-02 -2.69200932e-02  2.87852325e-02  2.45910175e-02\n",
            "    6.07185438e-03 -1.56020895e-02 -3.70521657e-02]\n",
            "  [ 2.93367170e-02 -4.47468050e-02  3.24962251e-02  4.31085937e-02\n",
            "   -3.54670286e-02  3.27418931e-02 -4.93933558e-02  6.14229590e-03\n",
            "    2.62744352e-03 -3.30417305e-02  1.77021958e-02 -4.41580676e-02\n",
            "    2.65114792e-02 -1.22408755e-02  2.24602222e-03]]\n",
            "\n",
            " [[-3.33857089e-02 -3.58735099e-02  6.23115152e-03  2.69858502e-02\n",
            "    3.11180614e-02  3.36668529e-02  4.75708395e-03 -1.42746679e-02\n",
            "   -3.47588435e-02  2.92313136e-02  1.71763636e-02  2.18415000e-02\n",
            "    1.09068751e-02 -3.18668112e-02  3.61348502e-02]\n",
            "  [-3.33857089e-02 -3.58735099e-02  6.23115152e-03  2.69858502e-02\n",
            "    3.11180614e-02  3.36668529e-02  4.75708395e-03 -1.42746679e-02\n",
            "   -3.47588435e-02  2.92313136e-02  1.71763636e-02  2.18415000e-02\n",
            "    1.09068751e-02 -3.18668112e-02  3.61348502e-02]\n",
            "  [-3.33857089e-02 -3.58735099e-02  6.23115152e-03  2.69858502e-02\n",
            "    3.11180614e-02  3.36668529e-02  4.75708395e-03 -1.42746679e-02\n",
            "   -3.47588435e-02  2.92313136e-02  1.71763636e-02  2.18415000e-02\n",
            "    1.09068751e-02 -3.18668112e-02  3.61348502e-02]\n",
            "  [-3.33857089e-02 -3.58735099e-02  6.23115152e-03  2.69858502e-02\n",
            "    3.11180614e-02  3.36668529e-02  4.75708395e-03 -1.42746679e-02\n",
            "   -3.47588435e-02  2.92313136e-02  1.71763636e-02  2.18415000e-02\n",
            "    1.09068751e-02 -3.18668112e-02  3.61348502e-02]\n",
            "  [-1.10954642e-02 -2.00975426e-02 -1.03828907e-02  1.18883848e-02\n",
            "   -1.14796758e-02 -4.57321182e-02  1.39736198e-02 -4.50742245e-03\n",
            "    4.32387702e-02 -1.51680782e-03 -3.55669372e-02 -4.84297648e-02\n",
            "    1.57992728e-02 -2.22099908e-02  3.58140469e-03]\n",
            "  [ 1.84842460e-02 -1.09998137e-03  2.45121382e-02  2.30813026e-03\n",
            "   -3.43834050e-02 -3.26278210e-02  2.55381502e-02 -3.31650153e-02\n",
            "   -2.35870369e-02 -1.02295503e-02  3.38389613e-02 -2.34824661e-02\n",
            "   -4.27901037e-02 -4.26184200e-02 -3.98396142e-02]\n",
            "  [ 2.34520175e-02 -4.04078588e-02 -9.48251411e-03  1.09676346e-02\n",
            "    2.66791098e-02 -1.75489783e-02 -4.40527126e-03 -1.49327628e-02\n",
            "    4.96187694e-02 -2.69200932e-02  2.87852325e-02  2.45910175e-02\n",
            "    6.07185438e-03 -1.56020895e-02 -3.70521657e-02]\n",
            "  [ 3.76057625e-03  4.81624864e-02  1.50585510e-02 -5.94496727e-03\n",
            "   -2.42395289e-02 -4.18666825e-02 -2.31650826e-02  3.18883099e-02\n",
            "    2.41236426e-02 -3.11336759e-02 -3.80186923e-02 -2.01458931e-02\n",
            "   -2.95903441e-02 -2.52949353e-02  3.39451097e-02]]\n",
            "\n",
            " [[-3.33857089e-02 -3.58735099e-02  6.23115152e-03  2.69858502e-02\n",
            "    3.11180614e-02  3.36668529e-02  4.75708395e-03 -1.42746679e-02\n",
            "   -3.47588435e-02  2.92313136e-02  1.71763636e-02  2.18415000e-02\n",
            "    1.09068751e-02 -3.18668112e-02  3.61348502e-02]\n",
            "  [-3.33857089e-02 -3.58735099e-02  6.23115152e-03  2.69858502e-02\n",
            "    3.11180614e-02  3.36668529e-02  4.75708395e-03 -1.42746679e-02\n",
            "   -3.47588435e-02  2.92313136e-02  1.71763636e-02  2.18415000e-02\n",
            "    1.09068751e-02 -3.18668112e-02  3.61348502e-02]\n",
            "  [-3.33857089e-02 -3.58735099e-02  6.23115152e-03  2.69858502e-02\n",
            "    3.11180614e-02  3.36668529e-02  4.75708395e-03 -1.42746679e-02\n",
            "   -3.47588435e-02  2.92313136e-02  1.71763636e-02  2.18415000e-02\n",
            "    1.09068751e-02 -3.18668112e-02  3.61348502e-02]\n",
            "  [-3.33857089e-02 -3.58735099e-02  6.23115152e-03  2.69858502e-02\n",
            "    3.11180614e-02  3.36668529e-02  4.75708395e-03 -1.42746679e-02\n",
            "   -3.47588435e-02  2.92313136e-02  1.71763636e-02  2.18415000e-02\n",
            "    1.09068751e-02 -3.18668112e-02  3.61348502e-02]\n",
            "  [-1.10954642e-02 -2.00975426e-02 -1.03828907e-02  1.18883848e-02\n",
            "   -1.14796758e-02 -4.57321182e-02  1.39736198e-02 -4.50742245e-03\n",
            "    4.32387702e-02 -1.51680782e-03 -3.55669372e-02 -4.84297648e-02\n",
            "    1.57992728e-02 -2.22099908e-02  3.58140469e-03]\n",
            "  [-4.60604317e-02 -3.36175784e-02 -1.63310058e-02  3.15207504e-02\n",
            "    3.56801637e-02  4.26485874e-02 -2.90087461e-02  3.88940461e-02\n",
            "    1.75177567e-02  3.82968821e-02  2.92149298e-02 -2.86131501e-02\n",
            "    3.17715742e-02  2.12329365e-02  3.15810367e-03]\n",
            "  [ 2.34520175e-02 -4.04078588e-02 -9.48251411e-03  1.09676346e-02\n",
            "    2.66791098e-02 -1.75489783e-02 -4.40527126e-03 -1.49327628e-02\n",
            "    4.96187694e-02 -2.69200932e-02  2.87852325e-02  2.45910175e-02\n",
            "    6.07185438e-03 -1.56020895e-02 -3.70521657e-02]\n",
            "  [ 2.93046571e-02 -3.92613783e-02 -3.66969928e-02 -1.84186213e-02\n",
            "    1.07374899e-02  2.88512371e-02  4.13667448e-02 -2.50260830e-02\n",
            "    2.45680548e-02 -2.05278639e-02  3.14178206e-02 -1.52445436e-02\n",
            "   -4.31216359e-02  9.66031477e-03  3.69794630e-02]]\n",
            "\n",
            " [[-3.33857089e-02 -3.58735099e-02  6.23115152e-03  2.69858502e-02\n",
            "    3.11180614e-02  3.36668529e-02  4.75708395e-03 -1.42746679e-02\n",
            "   -3.47588435e-02  2.92313136e-02  1.71763636e-02  2.18415000e-02\n",
            "    1.09068751e-02 -3.18668112e-02  3.61348502e-02]\n",
            "  [-3.33857089e-02 -3.58735099e-02  6.23115152e-03  2.69858502e-02\n",
            "    3.11180614e-02  3.36668529e-02  4.75708395e-03 -1.42746679e-02\n",
            "   -3.47588435e-02  2.92313136e-02  1.71763636e-02  2.18415000e-02\n",
            "    1.09068751e-02 -3.18668112e-02  3.61348502e-02]\n",
            "  [-3.33857089e-02 -3.58735099e-02  6.23115152e-03  2.69858502e-02\n",
            "    3.11180614e-02  3.36668529e-02  4.75708395e-03 -1.42746679e-02\n",
            "   -3.47588435e-02  2.92313136e-02  1.71763636e-02  2.18415000e-02\n",
            "    1.09068751e-02 -3.18668112e-02  3.61348502e-02]\n",
            "  [-2.51779445e-02  3.17857154e-02 -2.74149328e-03 -2.12345012e-02\n",
            "   -9.19686630e-03  4.84344624e-02 -2.57992502e-02  1.32178999e-02\n",
            "   -3.94473299e-02  1.96883567e-02 -3.05009838e-02  5.05262613e-03\n",
            "   -2.35670935e-02 -2.74841916e-02  2.41189860e-02]\n",
            "  [ 4.90513779e-02 -2.91612633e-02  1.95615627e-02  1.12641081e-02\n",
            "    3.39612253e-02  2.83934809e-02 -2.25903988e-02  4.26729433e-02\n",
            "    4.54783775e-02 -4.34890054e-02 -3.50293890e-02  2.67750360e-02\n",
            "    2.76445784e-02 -3.81215587e-02 -5.29681519e-03]\n",
            "  [ 4.66182269e-02  1.66829564e-02 -3.33617479e-02  4.73854281e-02\n",
            "    8.23684782e-03 -3.66225466e-02 -5.47295809e-03  4.36503030e-02\n",
            "    8.06641579e-03 -1.27521977e-02  3.86684872e-02 -3.76600623e-02\n",
            "   -1.67612061e-02  4.69821803e-02 -3.73013318e-05]\n",
            "  [ 1.57683380e-02  1.35473646e-02 -1.73632130e-02  3.60534303e-02\n",
            "   -2.76313666e-02 -1.87259689e-02  2.32131965e-02  3.85537483e-02\n",
            "    3.02722715e-02 -3.65975127e-02  1.19618401e-02 -3.26596722e-02\n",
            "   -4.21535969e-02 -4.59250323e-02  2.44740285e-02]\n",
            "  [-3.84295359e-02  3.43882330e-02 -2.75740027e-02 -3.34326848e-02\n",
            "    3.37220691e-02  4.91078161e-02  4.63932790e-02 -9.57162306e-03\n",
            "    2.33915113e-02  4.42074612e-03 -3.12170386e-02 -3.81268375e-02\n",
            "    2.35433467e-02  4.05539386e-02 -3.69082913e-02]]\n",
            "\n",
            " [[-3.33857089e-02 -3.58735099e-02  6.23115152e-03  2.69858502e-02\n",
            "    3.11180614e-02  3.36668529e-02  4.75708395e-03 -1.42746679e-02\n",
            "   -3.47588435e-02  2.92313136e-02  1.71763636e-02  2.18415000e-02\n",
            "    1.09068751e-02 -3.18668112e-02  3.61348502e-02]\n",
            "  [-3.33857089e-02 -3.58735099e-02  6.23115152e-03  2.69858502e-02\n",
            "    3.11180614e-02  3.36668529e-02  4.75708395e-03 -1.42746679e-02\n",
            "   -3.47588435e-02  2.92313136e-02  1.71763636e-02  2.18415000e-02\n",
            "    1.09068751e-02 -3.18668112e-02  3.61348502e-02]\n",
            "  [-3.33857089e-02 -3.58735099e-02  6.23115152e-03  2.69858502e-02\n",
            "    3.11180614e-02  3.36668529e-02  4.75708395e-03 -1.42746679e-02\n",
            "   -3.47588435e-02  2.92313136e-02  1.71763636e-02  2.18415000e-02\n",
            "    1.09068751e-02 -3.18668112e-02  3.61348502e-02]\n",
            "  [-2.51779445e-02  3.17857154e-02 -2.74149328e-03 -2.12345012e-02\n",
            "   -9.19686630e-03  4.84344624e-02 -2.57992502e-02  1.32178999e-02\n",
            "   -3.94473299e-02  1.96883567e-02 -3.05009838e-02  5.05262613e-03\n",
            "   -2.35670935e-02 -2.74841916e-02  2.41189860e-02]\n",
            "  [ 4.90513779e-02 -2.91612633e-02  1.95615627e-02  1.12641081e-02\n",
            "    3.39612253e-02  2.83934809e-02 -2.25903988e-02  4.26729433e-02\n",
            "    4.54783775e-02 -4.34890054e-02 -3.50293890e-02  2.67750360e-02\n",
            "    2.76445784e-02 -3.81215587e-02 -5.29681519e-03]\n",
            "  [ 4.66182269e-02  1.66829564e-02 -3.33617479e-02  4.73854281e-02\n",
            "    8.23684782e-03 -3.66225466e-02 -5.47295809e-03  4.36503030e-02\n",
            "    8.06641579e-03 -1.27521977e-02  3.86684872e-02 -3.76600623e-02\n",
            "   -1.67612061e-02  4.69821803e-02 -3.73013318e-05]\n",
            "  [ 1.57683380e-02  1.35473646e-02 -1.73632130e-02  3.60534303e-02\n",
            "   -2.76313666e-02 -1.87259689e-02  2.32131965e-02  3.85537483e-02\n",
            "    3.02722715e-02 -3.65975127e-02  1.19618401e-02 -3.26596722e-02\n",
            "   -4.21535969e-02 -4.59250323e-02  2.44740285e-02]\n",
            "  [ 1.74981356e-03 -4.31149602e-02 -3.98338325e-02  8.90148804e-03\n",
            "    4.19230200e-02  1.50165595e-02  1.45755447e-02  3.41762230e-03\n",
            "   -1.63211599e-02  3.43492292e-02 -3.85952219e-02  3.70706208e-02\n",
            "    2.09950916e-02 -2.76343469e-02 -2.27216370e-02]]\n",
            "\n",
            " [[-3.33857089e-02 -3.58735099e-02  6.23115152e-03  2.69858502e-02\n",
            "    3.11180614e-02  3.36668529e-02  4.75708395e-03 -1.42746679e-02\n",
            "   -3.47588435e-02  2.92313136e-02  1.71763636e-02  2.18415000e-02\n",
            "    1.09068751e-02 -3.18668112e-02  3.61348502e-02]\n",
            "  [-3.33857089e-02 -3.58735099e-02  6.23115152e-03  2.69858502e-02\n",
            "    3.11180614e-02  3.36668529e-02  4.75708395e-03 -1.42746679e-02\n",
            "   -3.47588435e-02  2.92313136e-02  1.71763636e-02  2.18415000e-02\n",
            "    1.09068751e-02 -3.18668112e-02  3.61348502e-02]\n",
            "  [-3.33857089e-02 -3.58735099e-02  6.23115152e-03  2.69858502e-02\n",
            "    3.11180614e-02  3.36668529e-02  4.75708395e-03 -1.42746679e-02\n",
            "   -3.47588435e-02  2.92313136e-02  1.71763636e-02  2.18415000e-02\n",
            "    1.09068751e-02 -3.18668112e-02  3.61348502e-02]\n",
            "  [ 3.84488814e-02  1.92453526e-02  3.12862657e-02 -2.21873447e-03\n",
            "    1.30556114e-02 -8.34036618e-04  3.63965146e-02  2.17999257e-02\n",
            "   -4.67411987e-02 -4.12607677e-02  1.45296492e-02  3.59794758e-02\n",
            "   -4.20601852e-02 -1.20334402e-02 -2.33688485e-02]\n",
            "  [-1.10954642e-02 -2.00975426e-02 -1.03828907e-02  1.18883848e-02\n",
            "   -1.14796758e-02 -4.57321182e-02  1.39736198e-02 -4.50742245e-03\n",
            "    4.32387702e-02 -1.51680782e-03 -3.55669372e-02 -4.84297648e-02\n",
            "    1.57992728e-02 -2.22099908e-02  3.58140469e-03]\n",
            "  [-2.89335251e-02  1.77037828e-02  8.64516944e-04 -1.87230222e-02\n",
            "    3.55241187e-02 -8.76960903e-03 -4.91748564e-02 -1.80979967e-02\n",
            "    3.30563523e-02  3.47501300e-02  2.72923745e-02  4.55590598e-02\n",
            "   -4.77425009e-03 -1.29049048e-02 -2.92129759e-02]\n",
            "  [ 2.34520175e-02 -4.04078588e-02 -9.48251411e-03  1.09676346e-02\n",
            "    2.66791098e-02 -1.75489783e-02 -4.40527126e-03 -1.49327628e-02\n",
            "    4.96187694e-02 -2.69200932e-02  2.87852325e-02  2.45910175e-02\n",
            "    6.07185438e-03 -1.56020895e-02 -3.70521657e-02]\n",
            "  [-1.03279203e-03 -4.33493033e-02 -1.69983879e-02  4.31633629e-02\n",
            "    1.39334463e-02  2.57826969e-03 -2.45847553e-03  4.52443399e-02\n",
            "   -2.77126431e-02  1.37953795e-02  2.38071196e-02  2.06691734e-02\n",
            "    1.74528360e-03  3.89291383e-02 -3.62760946e-03]]\n",
            "\n",
            " [[-3.33857089e-02 -3.58735099e-02  6.23115152e-03  2.69858502e-02\n",
            "    3.11180614e-02  3.36668529e-02  4.75708395e-03 -1.42746679e-02\n",
            "   -3.47588435e-02  2.92313136e-02  1.71763636e-02  2.18415000e-02\n",
            "    1.09068751e-02 -3.18668112e-02  3.61348502e-02]\n",
            "  [-3.33857089e-02 -3.58735099e-02  6.23115152e-03  2.69858502e-02\n",
            "    3.11180614e-02  3.36668529e-02  4.75708395e-03 -1.42746679e-02\n",
            "   -3.47588435e-02  2.92313136e-02  1.71763636e-02  2.18415000e-02\n",
            "    1.09068751e-02 -3.18668112e-02  3.61348502e-02]\n",
            "  [-3.33857089e-02 -3.58735099e-02  6.23115152e-03  2.69858502e-02\n",
            "    3.11180614e-02  3.36668529e-02  4.75708395e-03 -1.42746679e-02\n",
            "   -3.47588435e-02  2.92313136e-02  1.71763636e-02  2.18415000e-02\n",
            "    1.09068751e-02 -3.18668112e-02  3.61348502e-02]\n",
            "  [-3.33857089e-02 -3.58735099e-02  6.23115152e-03  2.69858502e-02\n",
            "    3.11180614e-02  3.36668529e-02  4.75708395e-03 -1.42746679e-02\n",
            "   -3.47588435e-02  2.92313136e-02  1.71763636e-02  2.18415000e-02\n",
            "    1.09068751e-02 -3.18668112e-02  3.61348502e-02]\n",
            "  [ 1.73018016e-02  4.83855344e-02  4.79174145e-02 -4.90110181e-02\n",
            "   -1.04471557e-02 -2.19361540e-02 -9.33182240e-03 -1.32115968e-02\n",
            "    1.57752372e-02 -1.58074722e-02 -1.48818605e-02  3.57323550e-02\n",
            "    1.36607885e-03  6.98184967e-03  4.48875688e-02]\n",
            "  [-1.94538962e-02 -7.68312067e-03 -2.09168196e-02  3.93689536e-02\n",
            "    2.64536589e-04  4.26619984e-02 -8.30424950e-03  4.63152193e-02\n",
            "   -2.31385585e-02  4.21348959e-03 -8.61635059e-03 -1.93447955e-02\n",
            "    1.94505118e-02 -3.98359410e-02  1.19232647e-02]\n",
            "  [ 3.64236347e-02  2.20906176e-02  5.13893366e-03 -6.10163063e-03\n",
            "   -4.80559133e-02  2.25359239e-02  5.61214983e-04 -3.07024848e-02\n",
            "    3.18718441e-02  2.13151313e-02 -4.15050760e-02 -4.58886735e-02\n",
            "    3.02890688e-03  7.37118721e-03  9.66696814e-03]\n",
            "  [ 1.57683380e-02  1.35473646e-02 -1.73632130e-02  3.60534303e-02\n",
            "   -2.76313666e-02 -1.87259689e-02  2.32131965e-02  3.85537483e-02\n",
            "    3.02722715e-02 -3.65975127e-02  1.19618401e-02 -3.26596722e-02\n",
            "   -4.21535969e-02 -4.59250323e-02  2.44740285e-02]]]\n"
          ]
        }
      ]
    },
    {
      "cell_type": "code",
      "source": [
        "embedded_doc[0]"
      ],
      "metadata": {
        "colab": {
          "base_uri": "https://localhost:8080/"
        },
        "id": "-PNWrcahFRwz",
        "outputId": "ba48baa9-d0d8-4431-a853-9620733d1ca2"
      },
      "execution_count": 32,
      "outputs": [
        {
          "output_type": "execute_result",
          "data": {
            "text/plain": [
              "array([  0,   0,   0,   0, 271, 379, 345, 967], dtype=int32)"
            ]
          },
          "metadata": {},
          "execution_count": 32
        }
      ]
    },
    {
      "cell_type": "code",
      "source": [
        "print(model.predict(embedded_doc[0]))"
      ],
      "metadata": {
        "colab": {
          "base_uri": "https://localhost:8080/"
        },
        "id": "ryhbFvYp6Q-K",
        "outputId": "b1347bc1-536e-4c68-bc09-98d4b6138f8f"
      },
      "execution_count": 31,
      "outputs": [
        {
          "output_type": "stream",
          "name": "stdout",
          "text": [
            "1/1 [==============================] - 0s 74ms/step\n",
            "[[-0.03338571 -0.03587351  0.00623115  0.02698585  0.03111806  0.03366685\n",
            "   0.00475708 -0.01427467 -0.03475884  0.02923131  0.01717636  0.0218415\n",
            "   0.01090688 -0.03186681  0.03613485]\n",
            " [-0.03338571 -0.03587351  0.00623115  0.02698585  0.03111806  0.03366685\n",
            "   0.00475708 -0.01427467 -0.03475884  0.02923131  0.01717636  0.0218415\n",
            "   0.01090688 -0.03186681  0.03613485]\n",
            " [-0.03338571 -0.03587351  0.00623115  0.02698585  0.03111806  0.03366685\n",
            "   0.00475708 -0.01427467 -0.03475884  0.02923131  0.01717636  0.0218415\n",
            "   0.01090688 -0.03186681  0.03613485]\n",
            " [-0.03338571 -0.03587351  0.00623115  0.02698585  0.03111806  0.03366685\n",
            "   0.00475708 -0.01427467 -0.03475884  0.02923131  0.01717636  0.0218415\n",
            "   0.01090688 -0.03186681  0.03613485]\n",
            " [-0.01109546 -0.02009754 -0.01038289  0.01188838 -0.01147968 -0.04573212\n",
            "   0.01397362 -0.00450742  0.04323877 -0.00151681 -0.03556694 -0.04842976\n",
            "   0.01579927 -0.02220999  0.0035814 ]\n",
            " [ 0.01848425 -0.00109998  0.02451214  0.00230813 -0.0343834  -0.03262782\n",
            "   0.02553815 -0.03316502 -0.02358704 -0.01022955  0.03383896 -0.02348247\n",
            "  -0.0427901  -0.04261842 -0.03983961]\n",
            " [ 0.02345202 -0.04040786 -0.00948251  0.01096763  0.02667911 -0.01754898\n",
            "  -0.00440527 -0.01493276  0.04961877 -0.02692009  0.02878523  0.02459102\n",
            "   0.00607185 -0.01560209 -0.03705217]\n",
            " [ 0.02933672 -0.0447468   0.03249623  0.04310859 -0.03546703  0.03274189\n",
            "  -0.04939336  0.0061423   0.00262744 -0.03304173  0.0177022  -0.04415807\n",
            "   0.02651148 -0.01224088  0.00224602]]\n"
          ]
        }
      ]
    },
    {
      "cell_type": "code",
      "source": [],
      "metadata": {
        "id": "sntduYKM6Ddz"
      },
      "execution_count": null,
      "outputs": []
    },
    {
      "cell_type": "code",
      "source": [],
      "metadata": {
        "id": "dQv-k7Zg5kEq"
      },
      "execution_count": null,
      "outputs": []
    }
  ]
}